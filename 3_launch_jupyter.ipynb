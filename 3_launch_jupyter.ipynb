{
 "cells": [
  {
   "cell_type": "markdown",
   "metadata": {},
   "source": [
    "## Launch a Jupyter container\n",
    "\n",
    "Inside the SSH session, start a Jupyter container:\n",
    "\n",
    "``` bash\n",
    "# run on node-eval-offline\n",
    "docker run  -d --rm  -p 8888:8888 \\\n",
    "    -v ~/eval-offline-chi/workspace:/home/jovyan/work/ \\\n",
    "    -v food11:/mnt/ \\\n",
    "    -e FOOD11_DATA_DIR=/mnt/Food-11 \\\n",
    "    --name jupyter \\\n",
    "    quay.io/jupyter/pytorch-notebook:pytorch-2.5.1\n",
    "```\n",
    "\n",
    "Run\n",
    "\n",
    "``` bash\n",
    "# run on node-eval-offline\n",
    "docker logs jupyter\n",
    "```\n",
    "\n",
    "and look for a line like\n",
    "\n",
    "    http://127.0.0.1:8888/lab?token=XXXXXXXXXXXXXXXXXXXXXXXXXXXXXXXXXXXXXXXXXXXXXXXX\n",
    "\n",
    "Paste this into a browser tab, but in place of 127.0.0.1, substitute the floating IP assigned to your instance, to open the Jupyter notebook interface that is running *on your compute instance*.\n",
    "\n",
    "Open a terminal inside this Jupyter container, and run\n",
    "\n",
    "``` bash\n",
    "# run in Jupyter container on node-eval-offline\n",
    "pip install grad-cam pytest\n",
    "```\n",
    "\n",
    "Then, in the file browser on the left side, open the “work” directory and then click on the `eval_offline.ipynb` notebook to continue."
   ]
  }
 ],
 "nbformat": 4,
 "nbformat_minor": 4,
 "metadata": {
  "kernelspec": {
   "name": "python3",
   "display_name": "Python 3 (ipykernel)",
   "language": "python"
  },
  "language_info": {
   "name": "python",
   "codemirror_mode": {
    "name": "ipython",
    "version": "3"
   },
   "file_extension": ".py",
   "mimetype": "text/x-python"
  }
 }
}
